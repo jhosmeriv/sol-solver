{
 "cells": [
  {
   "cell_type": "code",
   "execution_count": 3,
   "metadata": {},
   "outputs": [],
   "source": [
    "import json\n",
    "import os\n",
    "import mlflow"
   ]
  },
  {
   "cell_type": "code",
   "execution_count": 4,
   "metadata": {},
   "outputs": [],
   "source": [
    "# Make tokenizer for amino acids\n",
    "\n",
    "STOP = \"*\"\n",
    "GAP = \"-\"\n",
    "TOKENS=['A', 'B', 'C', 'D', 'E', 'F', 'G', 'H', 'I', 'J', 'K', 'L', 'M', 'N', 'O', 'P', 'Q', 'R', 'S', 'T', 'U', 'V', 'W', 'Y', 'Z', 'X', STOP, GAP]\n",
    "TOKEN_DICT = {TOKENS[x]:x  for x in range(len(TOKENS))}\n",
    "\n",
    "def tokenizer(seq):\n",
    "    seq = seq + STOP\n",
    "    return [AA for AA in seq]\n"
   ]
  },
  {
   "cell_type": "code",
   "execution_count": 5,
   "metadata": {},
   "outputs": [
    {
     "data": {
      "text/plain": [
       "device(type='cpu')"
      ]
     },
     "execution_count": 5,
     "metadata": {},
     "output_type": "execute_result"
    }
   ],
   "source": [
    "# Get torch ready by setting device\n",
    "# Note: a GPU is highly recommended for this example\n",
    "import torch\n",
    "\n",
    "device = torch.device('cuda' if torch.cuda.is_available() else 'cpu')\n",
    "\n",
    "device"
   ]
  },
  {
   "cell_type": "code",
   "execution_count": 9,
   "metadata": {},
   "outputs": [
    {
     "data": {
      "text/plain": [
       "\n",
       "[torchtext.data.batch.Batch of size 32]\n",
       "\t[.seq]:[torch.LongTensor of size 100x32]\n",
       "\t[.tgt]:[torch.LongTensor of size 32]"
      ]
     },
     "execution_count": 9,
     "metadata": {},
     "output_type": "execute_result"
    }
   ],
   "source": [
    "# Get the data ready for torch\n",
    "# This assumes that you have run the data transform script deepsol_transform.py\n",
    "\n",
    "from torchtext import data\n",
    "\n",
    "fix_len=100\n",
    "\n",
    "seq = data.Field(sequential=True, tokenize=tokenizer, fix_length=fix_len, pad_token=GAP, unk_token='X')\n",
    "tgt = data.Field(sequential=False, use_vocab=False, is_target=True)\n",
    "\n",
    "train, val, test = data.TabularDataset.splits(path='.data/deepsol', train='train.tsv', validation='val.tsv', test='test.tsv', format='tsv', fields=[('seq', seq), ('tgt', tgt)])\n",
    "\n",
    "seq.build_vocab(train)\n",
    "seq_vocab = seq.vocab\n",
    "\n",
    "batch_size = 32\n",
    "train_iter, val_iter, test_iter = data.Iterator.splits((train, val, test), device=device, batch_size=batch_size, sort=False)\n",
    "\n",
    "for x in train_iter:\n",
    "    temp = x\n",
    "    break\n",
    "\n",
    "temp"
   ]
  },
  {
   "cell_type": "code",
   "execution_count": 7,
   "metadata": {},
   "outputs": [],
   "source": [
    "# Make whatever model you want\n",
    "# This is a LSTM classifier that doesn't seem to work very well\n",
    "import torch.nn as nn\n",
    "import torch.autograd as autograd\n",
    "import torch.nn.functional as F\n",
    "\n",
    "class LSTMClassifier(nn.Module):\n",
    "    def __init__(self, vocab_size, hidden_size, num_layers, output_size):\n",
    "        super(LSTMClassifier, self).__init__()\n",
    "        \n",
    "        self.hidden_size = hidden_size\n",
    "        self.num_layers = num_layers\n",
    "        \n",
    "        self.lstm = nn.LSTM(vocab_size, hidden_size, num_layers)\n",
    "        self.out = nn.Linear(hidden_size, output_size)\n",
    "        \n",
    "        \n",
    "        \n",
    "    def make_hidden(self, batch_size, device):\n",
    "        self.hidden = (autograd.Variable(torch.zeros(self.num_layers, batch_size, self.hidden_size)).to(device), autograd.Variable(torch.zeros(self.num_layers, batch_size, self.hidden_size)).to(device))\n",
    "        \n",
    "    def forward(self, seq):\n",
    "        out, self.hidden = self.lstm(seq, self.hidden)\n",
    "        x = self.out(out)\n",
    "        return x"
   ]
  },
  {
   "cell_type": "code",
   "execution_count": 8,
   "metadata": {},
   "outputs": [],
   "source": [
    "# Build your training and validation functions\n",
    "\n",
    "from torch import optim\n",
    "import mlflow\n",
    "import numpy as np\n",
    "\n",
    "def train_batch(model, optimizer, train_iter, update_freq=128):\n",
    "    losses = []\n",
    "    i = 0\n",
    "    num_batches = len(train_iter)\n",
    "    \n",
    "    for batch in train_iter:\n",
    "        # Prepare data\n",
    "        optimizer.zero_grad()\n",
    "        embed = nn.functional.one_hot(batch.seq, len(seq_vocab)).float()\n",
    "        target = batch.tgt\n",
    "        model.make_hidden(len(target), device)\n",
    "        \n",
    "        # Get loss and perform gradient descent\n",
    "        pred = model(embed)[-1].squeeze()\n",
    "        loss = loss_func(pred, target)\n",
    "        losses.append(loss.item())\n",
    "        loss.backward()\n",
    "        optimizer.step()\n",
    "        \n",
    "        # Print to console sometimes so we can tell if we die\n",
    "        i += 1\n",
    "        if i%update_freq == 0:\n",
    "            print(\"Batch \" + str(i) + \"/\" + str(num_batches) + \" Epoch \" + str(100*i/num_batches) + \"% complete\")\n",
    "            print(\"Current Loss: \" + str(np.mean(losses)))\n",
    "        \n",
    "    \n",
    "    # Get average loss for epoch\n",
    "    avg_loss = np.mean(losses)\n",
    "    print(\"Average loss: \" + str(avg_loss))\n",
    "    # Log to MLFlow\n",
    "    mlflow.log_metric('Train Loss', float(avg_loss))\n",
    "        \n",
    "def validate(model, val_iter, is_val):\n",
    "    losses = []\n",
    "    total = 0\n",
    "    correct = 0\n",
    "    for batch in val_iter:\n",
    "        # Prepare data\n",
    "        embed = nn.functional.one_hot(batch.seq, len(seq_vocab)).float()\n",
    "        target = batch.tgt\n",
    "        model.make_hidden(len(target), device)\n",
    "        \n",
    "        with torch.no_grad():\n",
    "            pred = model(embed)[-1].squeeze()\n",
    "        \n",
    "        # Get loss value\n",
    "        loss = loss_func(pred, target)\n",
    "        losses.append(loss.item())\n",
    "        \n",
    "        # Get actual error number \n",
    "        tgt_np = target.cpu().numpy()\n",
    "        pred_np = pred.cpu().numpy().argmax(axis=1)\n",
    "        total += len(pred_np)\n",
    "        correct += (pred_np == tgt_np).sum()\n",
    "    \n",
    "    # Calculate average loss\n",
    "    avg_loss = np.mean(losses)\n",
    "    # Calculate accuracy\n",
    "    accuracy = correct/total\n",
    "    if is_val:\n",
    "        # For validation set\n",
    "        print(\"Validation Accuracy: \" + str(accuracy) + \". \" + str(correct) + \" correct out of \" + str(total))\n",
    "        mlflow.log_metric('Val Acc', accuracy)\n",
    "        mlflow.log_metric('Val Loss', avg_loss)\n",
    "    else:\n",
    "        # For test set\n",
    "        print(\"Test: \" + str(correct) + \" correct out of \" + str(total))\n",
    "        mlflow.log_metric('Test Acc', float(correct/total))\n",
    "            \n",
    "\n",
    "def train(model, optimizer, epochs, train_iter, val_iter, test_iter):\n",
    "    # Simple training loop\n",
    "    for i in range(epochs):\n",
    "        train_batch(model, optimizer, train_iter)\n",
    "        validate(model, val_iter, True)\n",
    "\n",
    "        print(\"Epoch \" + str(i) + \" complete\")\n",
    "    validate(model, test_iter, False)"
   ]
  },
  {
   "cell_type": "code",
   "execution_count": null,
   "metadata": {},
   "outputs": [],
   "source": [
    "# This is our experiment runner\n",
    "import mlflow.pytorch\n",
    "\n",
    "mlflow.set_experiment('deepsol')\n",
    "\n",
    "# End run in case we have one hanging\n",
    "mlflow.end_run()\n",
    "for args in ([(512, 3), (656, 2)]):\n",
    "    mlflow.start_run()\n",
    "    model = LSTMClassifier(len(seq_vocab), args[0], args[1], 2)\n",
    "    model.to(device)\n",
    "    \n",
    "    # Save this notebook so we know exactly what code ran\n",
    "    mlflow.log_artifact('deepsol.ipynb')\n",
    "    \n",
    "    # Set some parameters\n",
    "    learning_rate = 4e-3\n",
    "    loss_func = torch.nn.CrossEntropyLoss().to(device)\n",
    "    optimizer = optim.Adam(model.parameters(), lr = learning_rate)\n",
    "\n",
    "    # Log model params to MLFlow\n",
    "    mlflow.log_param('Model Type', 'LSTM')\n",
    "    mlflow.log_param('Hidden Size', args[0])\n",
    "    mlflow.log_param('Number of Layers', args[1])\n",
    "    mlflow.log_param('Learning Rate Init', learning_rate)\n",
    "    mlflow.log_param('Fix Length', fix_len)\n",
    "    \n",
    "    # Call Training loop\n",
    "    train(model, optimizer, 12, train_iter, val_iter, test_iter)\n",
    "    \n",
    "    # Log final Model\n",
    "    mlflow.pytorch.log_model(model, \"models\")\n",
    "    \n",
    "    mlflow.end_run()"
   ]
  },
  {
   "cell_type": "code",
   "execution_count": null,
   "metadata": {},
   "outputs": [],
   "source": [
    "mlflow.end_run()"
   ]
  }
 ],
 "metadata": {
  "kernelspec": {
   "display_name": "Python 3",
   "language": "python",
   "name": "python3"
  },
  "language_info": {
   "codemirror_mode": {
    "name": "ipython",
    "version": 3
   },
   "file_extension": ".py",
   "mimetype": "text/x-python",
   "name": "python",
   "nbconvert_exporter": "python",
   "pygments_lexer": "ipython3",
   "version": "3.7.6"
  }
 },
 "nbformat": 4,
 "nbformat_minor": 4
}
